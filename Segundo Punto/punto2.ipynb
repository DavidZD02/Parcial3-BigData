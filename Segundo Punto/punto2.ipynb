{
  "cells": [
    {
      "cell_type": "code",
      "execution_count": null,
      "id": "57417296",
      "metadata": {
        "id": "57417296",
        "outputId": "11c06a96-2d0e-4561-a2f8-ab18e9365b9f",
        "colab": {
          "referenced_widgets": [
            "660418a1cf4b46f48e2bdf02ebb03f34",
            ""
          ]
        }
      },
      "outputs": [
        {
          "data": {
            "application/vnd.jupyter.widget-view+json": {
              "model_id": "660418a1cf4b46f48e2bdf02ebb03f34",
              "version_major": 2,
              "version_minor": 0
            },
            "text/plain": [
              "VBox()"
            ]
          },
          "metadata": {},
          "output_type": "display_data"
        },
        {
          "name": "stdout",
          "output_type": "stream",
          "text": [
            "Starting Spark application\n"
          ]
        },
        {
          "data": {
            "text/html": [
              "<table>\n",
              "<tr><th>ID</th><th>YARN Application ID</th><th>Kind</th><th>State</th><th>Spark UI</th><th>Driver log</th><th>User</th><th>Current session?</th></tr><tr><td>1</td><td>application_1684896148221_0002</td><td>pyspark</td><td>idle</td><td><a target=\"_blank\" href=\"http://ip-172-31-26-123.ec2.internal:20888/proxy/application_1684896148221_0002/\" class=\"emr-proxy-link\" emr-resource=\"j-Y1BPGQVW7L2X\n",
              "\" application-id=\"application_1684896148221_0002\">Link</a></td><td><a target=\"_blank\" href=\"http://ip-172-31-20-168.ec2.internal:8042/node/containerlogs/container_1684896148221_0002_01_000001/livy\" >Link</a></td><td>None</td><td>✔</td></tr></table>"
            ],
            "text/plain": [
              "<IPython.core.display.HTML object>"
            ]
          },
          "metadata": {},
          "output_type": "display_data"
        },
        {
          "data": {
            "application/vnd.jupyter.widget-view+json": {
              "model_id": "",
              "version_major": 2,
              "version_minor": 0
            },
            "text/plain": [
              "FloatProgress(value=0.0, bar_style='info', description='Progress:', layout=Layout(height='25px', width='50%'),…"
            ]
          },
          "metadata": {},
          "output_type": "display_data"
        },
        {
          "name": "stdout",
          "output_type": "stream",
          "text": [
            "SparkSession available as 'spark'.\n"
          ]
        },
        {
          "data": {
            "application/vnd.jupyter.widget-view+json": {
              "model_id": "",
              "version_major": 2,
              "version_minor": 0
            },
            "text/plain": [
              "FloatProgress(value=0.0, bar_style='info', description='Progress:', layout=Layout(height='25px', width='50%'),…"
            ]
          },
          "metadata": {},
          "output_type": "display_data"
        },
        {
          "name": "stdout",
          "output_type": "stream",
          "text": [
            "<pyspark.sql.session.SparkSession object at 0x7f8a0af74410>"
          ]
        }
      ],
      "source": [
        "spark"
      ]
    },
    {
      "cell_type": "code",
      "execution_count": null,
      "id": "3f946ddc",
      "metadata": {
        "id": "3f946ddc",
        "outputId": "13dffce8-073a-44d8-b64b-ed31db35314c",
        "colab": {
          "referenced_widgets": [
            "6d6a0161a3a744329426bba71c3285f6",
            ""
          ]
        }
      },
      "outputs": [
        {
          "data": {
            "application/vnd.jupyter.widget-view+json": {
              "model_id": "6d6a0161a3a744329426bba71c3285f6",
              "version_major": 2,
              "version_minor": 0
            },
            "text/plain": [
              "VBox()"
            ]
          },
          "metadata": {},
          "output_type": "display_data"
        },
        {
          "data": {
            "application/vnd.jupyter.widget-view+json": {
              "model_id": "",
              "version_major": 2,
              "version_minor": 0
            },
            "text/plain": [
              "FloatProgress(value=0.0, bar_style='info', description='Progress:', layout=Layout(height='25px', width='50%'),…"
            ]
          },
          "metadata": {},
          "output_type": "display_data"
        }
      ],
      "source": [
        "df=spark.read.csv('s3://noticias-parcial99/headlines/final/periodico=elTiempo/year=2023/month=04/elTiempo2023-04-28.csv')"
      ]
    },
    {
      "cell_type": "code",
      "source": [
        "from pyspark.ml import Pipeline\n",
        "from pyspark.ml.feature import StringIndexer, Tokenizer, HashingTF, IDF\n",
        "from pyspark.sql import SparkSession"
      ],
      "metadata": {
        "id": "cjMETok0fDIT"
      },
      "id": "cjMETok0fDIT",
      "execution_count": null,
      "outputs": []
    },
    {
      "cell_type": "code",
      "execution_count": null,
      "id": "ecd52f1d",
      "metadata": {
        "id": "ecd52f1d",
        "outputId": "bcf62c79-622c-4038-ca18-689dcdc18eb0",
        "colab": {
          "referenced_widgets": [
            "892b71f147874a879cc335042f4bd8e3",
            ""
          ]
        }
      },
      "outputs": [
        {
          "data": {
            "application/vnd.jupyter.widget-view+json": {
              "model_id": "892b71f147874a879cc335042f4bd8e3",
              "version_major": 2,
              "version_minor": 0
            },
            "text/plain": [
              "VBox()"
            ]
          },
          "metadata": {},
          "output_type": "display_data"
        },
        {
          "data": {
            "application/vnd.jupyter.widget-view+json": {
              "model_id": "",
              "version_major": 2,
              "version_minor": 0
            },
            "text/plain": [
              "FloatProgress(value=0.0, bar_style='info', description='Progress:', layout=Layout(height='25px', width='50%'),…"
            ]
          },
          "metadata": {},
          "output_type": "display_data"
        }
      ],
      "source": [
        "\n",
        "categoria = StringIndexer(inputCol=\"_c0\", outputCol=\"label\")\n",
        "token = Tokenizer(inputCol=\"_c1\", outputCol=\"words\")\n",
        "hash = HashingTF(inputCol=\"words\", outputCol=\"rawFeatures\")\n",
        "idf = IDF(inputCol=\"rawFeatures\", outputCol=\"features\")\n",
        "\n",
        "pipeline = Pipeline(stages=[categoria, token, hash, idf])\n",
        "pipeline_model = pipeline.fit(df)\n",
        "processed_data = pipeline_model.transform(df)\n",
        "processed_data.write.format(\"parquet\").save(\"s3://noticias-parcial99/headlines/noticiasToken/\")\n"
      ]
    }
  ],
  "metadata": {
    "kernelspec": {
      "display_name": "PySpark",
      "language": "python",
      "name": "pysparkkernel"
    },
    "language_info": {
      "codemirror_mode": {
        "name": "python",
        "version": 3
      },
      "file_extension": ".py",
      "mimetype": "text/x-python",
      "name": "pyspark",
      "pygments_lexer": "python3"
    },
    "colab": {
      "provenance": []
    }
  },
  "nbformat": 4,
  "nbformat_minor": 5
}